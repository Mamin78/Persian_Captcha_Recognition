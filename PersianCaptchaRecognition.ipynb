{
  "nbformat": 4,
  "nbformat_minor": 0,
  "metadata": {
    "colab": {
      "provenance": []
    },
    "kernelspec": {
      "name": "python3",
      "display_name": "Python 3"
    },
    "language_info": {
      "name": "python"
    },
    "accelerator": "GPU",
    "gpuClass": "standard"
  },
  "cells": [
    {
      "cell_type": "code",
      "source": [
        "from google.colab import drive\n",
        "drive.mount('/content/drive')"
      ],
      "metadata": {
        "colab": {
          "base_uri": "https://localhost:8080/"
        },
        "id": "WVcTmnTQLyut",
        "outputId": "1be26875-6e05-440e-8d98-08f6202e4731"
      },
      "execution_count": 1,
      "outputs": [
        {
          "output_type": "stream",
          "name": "stdout",
          "text": [
            "Drive already mounted at /content/drive; to attempt to forcibly remount, call drive.mount(\"/content/drive\", force_remount=True).\n"
          ]
        }
      ]
    },
    {
      "cell_type": "code",
      "source": [
        "!unzip '/content/drive/MyDrive/Datasets/PersianCaptchaDataset.zip' -d '/content/Data'"
      ],
      "metadata": {
        "id": "YNmFDCS2MKqo"
      },
      "execution_count": null,
      "outputs": []
    },
    {
      "cell_type": "code",
      "source": [
        "from pydrive.auth import GoogleAuth\n",
        "from google.colab import drive\n",
        "from pydrive.drive import GoogleDrive\n",
        "from google.colab import auth\n",
        "from oauth2client.client import GoogleCredentials\n",
        "import os"
      ],
      "metadata": {
        "id": "-IZWQ-u7vOt8"
      },
      "execution_count": 3,
      "outputs": []
    },
    {
      "cell_type": "code",
      "source": [
        "auth.authenticate_user()\n",
        "gauth = GoogleAuth()\n",
        "gauth.credentials = GoogleCredentials.get_application_default()\n",
        "drive = GoogleDrive(gauth)"
      ],
      "metadata": {
        "id": "5fKFWOawvOhw"
      },
      "execution_count": 4,
      "outputs": []
    },
    {
      "cell_type": "code",
      "source": [
        "download = drive.CreateFile({'id': '1w6fnh6MiHxeNxoyC7mUh3_2Brw-vR0l6'})\n",
        "download.GetContentFile('DataFunctions.py')\n",
        "\n",
        "download = drive.CreateFile({'id': '1VqLR4CMuWiNyAj36ztLRP3nYf6w9xnep'})\n",
        "download.GetContentFile('DataPreprocessor.py')\n",
        "\n",
        "download = drive.CreateFile({'id': '1FKHP2ocha_NvPYiOduc6wm3FhiEnHB4R'})\n",
        "download.GetContentFile('CaptchaDataset.py')\n",
        "\n",
        "download = drive.CreateFile({'id': '1v9SNq5uDgZM6y73oq1jVPwlxhAzho_i3'})\n",
        "download.GetContentFile('LossFunction.py')\n",
        "\n",
        "download = drive.CreateFile({'id': '1pVdeR_BvdvAVNfwe5ffA96Q9l0sBfzgW'})\n",
        "download.GetContentFile('main.py')\n",
        "\n",
        "download = drive.CreateFile({'id': '136ik-KhaZWu_BUmFntL9JbnKdcOy7uGp'})\n",
        "download.GetContentFile('Model.py')\n",
        "\n",
        "download = drive.CreateFile({'id': '1PzK6Bg2Ge5wAXHRS4LN9-0E02vkNUKEQ'})\n",
        "download.GetContentFile('Train.py')"
      ],
      "metadata": {
        "id": "kUeYguW2xN4o"
      },
      "execution_count": 5,
      "outputs": []
    },
    {
      "cell_type": "code",
      "source": [
        "download = drive.CreateFile({'id': '1qpt1GhT38Q5kAY6vAjXaoQ2HNNC5kgkM'})\n",
        "download.GetContentFile('best_checkpoint_last.pth')"
      ],
      "metadata": {
        "id": "7AVEVg6pFNGl"
      },
      "execution_count": 18,
      "outputs": []
    },
    {
      "cell_type": "code",
      "source": [
        "!python main.py \\\n",
        "--train \\\n",
        "--path_to_data '/content/Data/dataset' \\\n",
        "--exp_dir '/content/exp/' \\\n",
        "--checkpoint_path '/content/checkpoint_last.pth'\\\n",
        "--exp '01' "
      ],
      "metadata": {
        "id": "UIHheSw4-zk0"
      },
      "execution_count": null,
      "outputs": []
    },
    {
      "cell_type": "code",
      "source": [
        "!python main.py \\\n",
        "--path_to_data '/content/Data/dataset' \\\n",
        "--exp_dir '/content/exp/' \\\n",
        "--checkpoint_path '/content/best_checkpoint_last.pth'\\\n",
        "--exp '02' "
      ],
      "metadata": {
        "colab": {
          "base_uri": "https://localhost:8080/"
        },
        "id": "cHV_WDByEAPv",
        "outputId": "3b370220-5179-4993-d9b7-51d7b2926bcc"
      },
      "execution_count": 19,
      "outputs": [
        {
          "output_type": "stream",
          "name": "stdout",
          "text": [
            "You are using  cuda\n",
            "  0%|          | 0/1407 [00:00<?, ?it/s]\n",
            "  0%|          | 0/469 [00:00<?, ?it/s]\n",
            "The final train accuracy is  0.9863555555555555\n",
            "The final test accuracy is  0.9856\n"
          ]
        }
      ]
    }
  ]
}